{
 "cells": [
  {
   "cell_type": "code",
   "execution_count": 57,
   "id": "7cd1477d-15d0-4ed0-a76e-d117c6cee784",
   "metadata": {},
   "outputs": [],
   "source": [
    "from pyspark.sql import SparkSession\n",
    "from pyspark.sql import functions as F\n",
    "from pyspark.sql.types import StringType\n",
    "\n",
    "from pyspark.sql.functions import col, sum, round, countDistinct, max, variance\n",
    "\n",
    "from pyspark.ml.classification import RandomForestClassifier, LogisticRegression, NaiveBayes\n",
    "from pyspark.ml.evaluation import BinaryClassificationEvaluator\n",
    "from pyspark.ml.feature import VectorAssembler, StandardScaler\n",
    "from pyspark.ml.tuning import ParamGridBuilder, CrossValidator\n",
    "from pyspark.ml.clustering import KMeans\n",
    "\n"
   ]
  },
  {
   "cell_type": "code",
   "execution_count": 58,
   "id": "fa8eff8d-41ba-44d6-9072-cad483055502",
   "metadata": {},
   "outputs": [],
   "source": [
    "# Initialize Spark Session\n",
    "spark = SparkSession.builder.appName(\"HealthCareModel\").getOrCreate()"
   ]
  },
  {
   "cell_type": "code",
   "execution_count": 59,
   "id": "a65dd871-d035-46d6-8195-1a72597845de",
   "metadata": {},
   "outputs": [
    {
     "name": "stderr",
     "output_type": "stream",
     "text": [
      "                                                                                \r"
     ]
    }
   ],
   "source": [
    "part_d_data_path = \"../DataSet/Prescribers - by Provider and Drug/MUP_DPR_RY23_P04_V10_DY21_NPIBN.csv\"\n",
    "df = spark.read.csv(part_d_data_path, header=True, inferSchema=True)\n",
    "\n"
   ]
  },
  {
   "cell_type": "code",
   "execution_count": null,
   "id": "333a2b5c-2b91-485a-9f30-0ddb1132eb63",
   "metadata": {},
   "outputs": [],
   "source": []
  },
  {
   "cell_type": "code",
   "execution_count": 60,
   "id": "0def6cc4-4ded-487c-9ad3-54c2ce7fe29a",
   "metadata": {},
   "outputs": [
    {
     "name": "stdout",
     "output_type": "stream",
     "text": [
      "root\n",
      " |-- Prscrbr_NPI: integer (nullable = true)\n",
      " |-- Prscrbr_Last_Org_Name: string (nullable = true)\n",
      " |-- Prscrbr_First_Name: string (nullable = true)\n",
      " |-- Prscrbr_City: string (nullable = true)\n",
      " |-- Prscrbr_State_Abrvtn: string (nullable = true)\n",
      " |-- Prscrbr_State_FIPS: string (nullable = true)\n",
      " |-- Prscrbr_Type: string (nullable = true)\n",
      " |-- Prscrbr_Type_Src: string (nullable = true)\n",
      " |-- Brnd_Name: string (nullable = true)\n",
      " |-- Gnrc_Name: string (nullable = true)\n",
      " |-- Tot_Clms: integer (nullable = true)\n",
      " |-- Tot_30day_Fills: double (nullable = true)\n",
      " |-- Tot_Day_Suply: integer (nullable = true)\n",
      " |-- Tot_Drug_Cst: double (nullable = true)\n",
      " |-- Tot_Benes: integer (nullable = true)\n",
      " |-- GE65_Sprsn_Flag: string (nullable = true)\n",
      " |-- GE65_Tot_Clms: integer (nullable = true)\n",
      " |-- GE65_Tot_30day_Fills: double (nullable = true)\n",
      " |-- GE65_Tot_Drug_Cst: double (nullable = true)\n",
      " |-- GE65_Tot_Day_Suply: integer (nullable = true)\n",
      " |-- GE65_Bene_Sprsn_Flag: string (nullable = true)\n",
      " |-- GE65_Tot_Benes: integer (nullable = true)\n",
      "\n"
     ]
    }
   ],
   "source": [
    "df.printSchema()\n"
   ]
  },
  {
   "cell_type": "code",
   "execution_count": 61,
   "id": "f240f408-ba88-4ae7-804a-05a6c883333f",
   "metadata": {},
   "outputs": [],
   "source": [
    "part_d_data_t = df.select(\n",
    "    col(\"Prscrbr_NPI\").alias(\"npi\"),\n",
    "    col(\"Prscrbr_City\").alias(\"city\"),\n",
    "    col(\"Prscrbr_State_Abrvtn\").alias(\"state\"),\n",
    "    col(\"Prscrbr_Last_Org_Name\").alias(\"last_name\"),\n",
    "    col(\"Prscrbr_First_Name\").alias(\"first_name\"),\n",
    "    col(\"Prscrbr_Type\").alias(\"specialty\"),\n",
    "    col(\"Brnd_Name\").alias(\"drug_name\"),\n",
    "    col(\"Gnrc_Name\").alias(\"generic_name\"),\n",
    "    col(\"Tot_Drug_Cst\").alias(\"total_drug_cost\"),\n",
    "    col(\"Tot_Clms\").alias(\"total_claim_count\"),\n",
    "    col(\"Tot_Day_Suply\").alias(\"total_day_supply\")\n",
    ")"
   ]
  },
  {
   "cell_type": "code",
   "execution_count": 63,
   "id": "4383d8a5-1cd3-4010-b498-bf93f3a4df5a",
   "metadata": {},
   "outputs": [
    {
     "name": "stdout",
     "output_type": "stream",
     "text": [
      "+----------+-----------------+\n",
      "|       npi|        specialty|\n",
      "+----------+-----------------+\n",
      "|1003000126|Internal Medicine|\n",
      "|1003000126|Internal Medicine|\n",
      "|1003000126|Internal Medicine|\n",
      "|1003000126|Internal Medicine|\n",
      "|1003000126|Internal Medicine|\n",
      "|1003000126|Internal Medicine|\n",
      "|1003000126|Internal Medicine|\n",
      "|1003000126|Internal Medicine|\n",
      "|1003000126|Internal Medicine|\n",
      "|1003000126|Internal Medicine|\n",
      "|1003000126|Internal Medicine|\n",
      "|1003000126|Internal Medicine|\n",
      "|1003000126|Internal Medicine|\n",
      "|1003000126|Internal Medicine|\n",
      "|1003000126|Internal Medicine|\n",
      "|1003000126|Internal Medicine|\n",
      "|1003000126|Internal Medicine|\n",
      "|1003000126|Internal Medicine|\n",
      "|1003000126|Internal Medicine|\n",
      "|1003000126|Internal Medicine|\n",
      "+----------+-----------------+\n",
      "only showing top 20 rows\n",
      "\n",
      "+----------+--------------------+---------------+-----------------+----------------+-----------------+\n",
      "|       npi|           drug_name|total_drug_cost|total_claim_count|total_day_supply|        specialty|\n",
      "+----------+--------------------+---------------+-----------------+----------------+-----------------+\n",
      "|1003000126|  Alendronate Sodium|         125.28|               11|             930|Internal Medicine|\n",
      "|1003000126| Amlodipine Besylate|         812.86|               64|            5311|Internal Medicine|\n",
      "|1003000126|            Atenolol|         220.84|               12|            1080|Internal Medicine|\n",
      "|1003000126|Atorvastatin Calcium|         825.26|               46|            3660|Internal Medicine|\n",
      "|1003000126|            Cefdinir|          175.5|               11|              89|Internal Medicine|\n",
      "|1003000126|         Clopidogrel|         128.02|               14|             960|Internal Medicine|\n",
      "|1003000126|             Eliquis|        7150.87|               15|             422|Internal Medicine|\n",
      "|1003000126|Escitalopram Oxalate|         703.42|               30|            2013|Internal Medicine|\n",
      "|1003000126|         Finasteride|         526.76|               19|            1710|Internal Medicine|\n",
      "|1003000126|          Furosemide|         158.74|               20|            1003|Internal Medicine|\n",
      "|1003000126|          Gabapentin|          222.0|               13|             720|Internal Medicine|\n",
      "|1003000126|        Glipizide Er|         354.79|               18|            1500|Internal Medicine|\n",
      "|1003000126|     Hydralazine Hcl|          358.6|               31|            2180|Internal Medicine|\n",
      "|1003000126| Hydrochlorothiazide|         121.52|               26|            2043|Internal Medicine|\n",
      "|1003000126|Isosorbide Mononi...|          246.5|               11|             870|Internal Medicine|\n",
      "|1003000126|             Januvia|       18816.27|               14|            1080|Internal Medicine|\n",
      "|1003000126|Levothyroxine Sodium|         747.17|               30|            2384|Internal Medicine|\n",
      "|1003000126|          Lisinopril|         239.14|               23|            1710|Internal Medicine|\n",
      "|1003000126|  Losartan Potassium|        1125.87|               52|            4560|Internal Medicine|\n",
      "|1003000126|       Metformin Hcl|         269.62|               32|            2677|Internal Medicine|\n",
      "+----------+--------------------+---------------+-----------------+----------------+-----------------+\n",
      "only showing top 20 rows\n",
      "\n"
     ]
    }
   ],
   "source": [
    "# Step 1: Assign one DataFrame to another\n",
    "part_d_pd1 = part_d_data_t\n",
    "\n",
    "# Step 2: Select specific columns\n",
    "part_d_drug_df = part_d_data_t.select(\"npi\", \"drug_name\", \"total_drug_cost\", \"total_claim_count\", \"total_day_supply\", \"specialty\")\n",
    "\n",
    "# Step 3: Change the data type of 'npi' to StringType\n",
    "part_d_drug_df = part_d_drug_df.withColumn(\"npi\", col(\"npi\").cast(StringType()))\n",
    "\n",
    "# Step 4: Select specific columns from another DataFrame\n",
    "part_d_spec_df1 = part_d_data_t.select(\"npi\", \"specialty\")\n",
    "\n",
    "# Step 5: Show the first few rows (equivalent to head(0) in Pandas)\n",
    "part_d_spec_df1.show()\n",
    "part_d_drug_df.show()"
   ]
  },
  {
   "cell_type": "code",
   "execution_count": 64,
   "id": "14ed50ea-7bc4-4dd6-8061-d3710c848918",
   "metadata": {},
   "outputs": [
    {
     "name": "stdout",
     "output_type": "stream",
     "text": [
      "+----------+--------+-----+---------+----------+-----------------+\n",
      "|       npi|    city|state|last_name|first_name|        specialty|\n",
      "+----------+--------+-----+---------+----------+-----------------+\n",
      "|1003000126|Bethesda|   MD|Enkeshafi|   Ardalan|Internal Medicine|\n",
      "|1003000126|Bethesda|   MD|Enkeshafi|   Ardalan|Internal Medicine|\n",
      "|1003000126|Bethesda|   MD|Enkeshafi|   Ardalan|Internal Medicine|\n",
      "|1003000126|Bethesda|   MD|Enkeshafi|   Ardalan|Internal Medicine|\n",
      "|1003000126|Bethesda|   MD|Enkeshafi|   Ardalan|Internal Medicine|\n",
      "|1003000126|Bethesda|   MD|Enkeshafi|   Ardalan|Internal Medicine|\n",
      "|1003000126|Bethesda|   MD|Enkeshafi|   Ardalan|Internal Medicine|\n",
      "|1003000126|Bethesda|   MD|Enkeshafi|   Ardalan|Internal Medicine|\n",
      "|1003000126|Bethesda|   MD|Enkeshafi|   Ardalan|Internal Medicine|\n",
      "|1003000126|Bethesda|   MD|Enkeshafi|   Ardalan|Internal Medicine|\n",
      "|1003000126|Bethesda|   MD|Enkeshafi|   Ardalan|Internal Medicine|\n",
      "|1003000126|Bethesda|   MD|Enkeshafi|   Ardalan|Internal Medicine|\n",
      "|1003000126|Bethesda|   MD|Enkeshafi|   Ardalan|Internal Medicine|\n",
      "|1003000126|Bethesda|   MD|Enkeshafi|   Ardalan|Internal Medicine|\n",
      "|1003000126|Bethesda|   MD|Enkeshafi|   Ardalan|Internal Medicine|\n",
      "|1003000126|Bethesda|   MD|Enkeshafi|   Ardalan|Internal Medicine|\n",
      "|1003000126|Bethesda|   MD|Enkeshafi|   Ardalan|Internal Medicine|\n",
      "|1003000126|Bethesda|   MD|Enkeshafi|   Ardalan|Internal Medicine|\n",
      "|1003000126|Bethesda|   MD|Enkeshafi|   Ardalan|Internal Medicine|\n",
      "|1003000126|Bethesda|   MD|Enkeshafi|   Ardalan|Internal Medicine|\n",
      "+----------+--------+-----+---------+----------+-----------------+\n",
      "only showing top 20 rows\n",
      "\n"
     ]
    }
   ],
   "source": [
    "part_d_pd2 = part_d_data_t.select('npi',\n",
    "                                  'city',\n",
    "                                  'state',\n",
    "                                  'last_name',\n",
    "                                  'first_name',\n",
    "                                  'specialty')\n",
    "\n",
    "part_d_pd2.show()"
   ]
  },
  {
   "cell_type": "code",
   "execution_count": 65,
   "id": "f046dc22-9254-4818-9102-ba7bbb57f53e",
   "metadata": {},
   "outputs": [
    {
     "name": "stderr",
     "output_type": "stream",
     "text": [
      "[Stage 34:>                                                         (0 + 1) / 1]\r"
     ]
    },
    {
     "name": "stdout",
     "output_type": "stream",
     "text": [
      "+----------+-------------+-----+---------+----------+-------------------+\n",
      "|       npi|         city|state|last_name|first_name|          specialty|\n",
      "+----------+-------------+-----+---------+----------+-------------------+\n",
      "|1003028002|      Durango|   CO|   Haynes|      Kent|            Dentist|\n",
      "|1003041476|     Oak Park|   IL| Lindgren|     Kevin|Allergy/ Immunology|\n",
      "|1003043555|   Washington|   PA|  Orlosky|     Julie|    Family Practice|\n",
      "|1003046939|      Spencer|   IA|  Heckert|     Kathi| Nurse Practitioner|\n",
      "|1003055781|     Hartford|   CT|     Rice|     Jenny|Physician Assistant|\n",
      "|1003064825|        Parma|   OH| Phillips|    Cherie|   Vascular Surgery|\n",
      "|1003091539|    Fullerton|   CA|      Woo|      Kiho|  Internal Medicine|\n",
      "|1003095167|      El Paso|   IL|    Tyner|Jean-Marie| Nurse Practitioner|\n",
      "|1003101932|   Cumberland|   MD|     Hong|     Feiyu|  Internal Medicine|\n",
      "|1003119009|     Bellevue|   WA|  Swenson|   Jessica| Nurse Practitioner|\n",
      "|1003127002|       Laredo|   TX|  Ramirez|     Jorge|            Urology|\n",
      "|1003186644|       Auburn|   CA|  Ciobanu|      Dana|  Internal Medicine|\n",
      "|1003218280|    Mc Murray|   PA|   Bowman|  Jennifer| Nurse Practitioner|\n",
      "|1003220062| Philadelphia|   PA| Thompson|    Taylor|Physician Assistant|\n",
      "|1003226069|   Loganville|   GA|    Naidu|    Gopika| Nurse Practitioner|\n",
      "|1003228727|   Santa Cruz|   CA|  Eisberg|    Carrie|    Family Practice|\n",
      "|1003234378|     Danville|   PA|  Bernett|      John| Emergency Medicine|\n",
      "|1003248105|Mission Hills|   CA|  Tahoori|     Armin|  Internal Medicine|\n",
      "|1003262668|       Austin|   MN|      Mir|      Izza|  Internal Medicine|\n",
      "|1003297581|      Medford|   WI|   Werner|   Gregory|Physician Assistant|\n",
      "+----------+-------------+-----+---------+----------+-------------------+\n",
      "only showing top 20 rows\n",
      "\n"
     ]
    },
    {
     "name": "stderr",
     "output_type": "stream",
     "text": [
      "                                                                                \r"
     ]
    }
   ],
   "source": [
    "part_d_pd_u = part_d_pd2.dropDuplicates()\n",
    "\n",
    "# Show the result\n",
    "part_d_pd_u.show()"
   ]
  },
  {
   "cell_type": "code",
   "execution_count": 66,
   "id": "3b15e7c2-bf1c-451d-822a-1f7fe41a3fb5",
   "metadata": {},
   "outputs": [
    {
     "name": "stderr",
     "output_type": "stream",
     "text": [
      "[Stage 35:=====================================================>  (24 + 1) / 25]\r"
     ]
    },
    {
     "name": "stdout",
     "output_type": "stream",
     "text": [
      "+------------+-------------------+--------------------+-------------------+---------------------+----------------------+---------------------+--------------------+---------------------+--------------------+\n",
      "|         npi|sum_total_drug_cost|mean_total_drug_cost|max_total_drug_cost|sum_total_claim_count|mean_total_claim_count|max_total_claim_count|sum_total_day_supply|mean_total_day_supply|max_total_day_supply|\n",
      "+------------+-------------------+--------------------+-------------------+---------------------+----------------------+---------------------+--------------------+---------------------+--------------------+\n",
      "| 1.0030432E9|           18613.12|             930.656|            7077.18|                355.0|                 17.75|                 44.0|             21040.0|               1052.0|              3000.0|\n",
      "|1.00307283E9|          282157.47|           3399.4878|           45438.26|               4100.0|              49.39759|                244.0|            203448.0|            2451.1807|             12151.0|\n",
      "|1.00310195E9|               73.2|                73.2|               73.2|                 12.0|                  12.0|                 12.0|               360.0|                360.0|               360.0|\n",
      "|1.00311366E9|           479970.3|           11162.101|          235380.25|               3985.0|             92.674416|                521.0|            260880.0|            6066.9766|             35095.0|\n",
      "| 1.0031264E9|             541.05|            135.2625|             275.58|                158.0|                  39.5|                118.0|               796.0|                199.0|               582.0|\n",
      "|1.00314694E9|           273019.0|            9750.679|           86790.29|               1114.0|             39.785713|                248.0|             47007.0|            1678.8214|              7335.0|\n",
      "|1.00314886E9|            32623.4|             16311.7|           20481.13|                 39.0|                  19.5|                 25.0|              1410.0|                705.0|               990.0|\n",
      "| 1.0031605E9|             189.17|              189.17|             189.17|                 13.0|                  13.0|                 13.0|               321.0|                321.0|               321.0|\n",
      "| 1.0031639E9|           29274.11|           2661.2827|           14106.35|                313.0|             28.454546|                 69.0|             28407.0|            2582.4546|              6200.0|\n",
      "|  1.003164E9|            4440.57|             888.114|            1870.65|                160.0|                  32.0|                 65.0|              5752.0|               1150.4|              2498.0|\n",
      "|1.00316416E9|               31.4|                31.4|               31.4|                 15.0|                  15.0|                 15.0|                81.0|                 81.0|                81.0|\n",
      "| 1.0031663E9|             133.79|              66.895|              73.46|                 47.0|                  23.5|                 28.0|               248.0|                124.0|               196.0|\n",
      "| 1.0031798E9|           282452.4|           13450.115|          111328.11|                806.0|              38.38095|                133.0|             43594.0|            2075.9048|              9358.0|\n",
      "| 1.0031976E9|              239.6|               239.6|              239.6|                 17.0|                  17.0|                 17.0|               480.0|                480.0|               480.0|\n",
      "| 1.0032014E9|               57.4|                57.4|               57.4|                 11.0|                  11.0|                 11.0|                77.0|                 77.0|                77.0|\n",
      "|1.00321683E9|          511219.62|            9831.146|          102390.27|               2785.0|             53.557693|                184.0|             88506.0|            1702.0385|              6660.0|\n",
      "|1.00322816E9|            7052.19|           1763.0475|            6376.26|                 75.0|                 18.75|                 26.0|              3990.0|                997.5|              1740.0|\n",
      "|1.00324544E9|           49803.06|            4527.551|           39861.49|                146.0|             13.272727|                 21.0|              6645.0|             604.0909|              1470.0|\n",
      "|1.00324704E9|            6307.04|             6307.04|            6307.04|                 34.0|                  34.0|                 34.0|                34.0|                 34.0|                34.0|\n",
      "| 1.0032762E9|             240.78|               80.26|             140.02|                 55.0|             18.333334|                 26.0|               300.0|                100.0|               179.0|\n",
      "+------------+-------------------+--------------------+-------------------+---------------------+----------------------+---------------------+--------------------+---------------------+--------------------+\n",
      "only showing top 20 rows\n",
      "\n"
     ]
    },
    {
     "name": "stderr",
     "output_type": "stream",
     "text": [
      "                                                                                \r"
     ]
    }
   ],
   "source": [
    "group_cols = ['npi']\n",
    "\n",
    "part_d_pd3 = (part_d_pd1.groupBy(group_cols)\n",
    "             .agg(\n",
    "                 F.sum(\"total_drug_cost\").alias(\"sum_total_drug_cost\"),\n",
    "                 F.mean(\"total_drug_cost\").alias(\"mean_total_drug_cost\"),\n",
    "                 F.max(\"total_drug_cost\").alias(\"max_total_drug_cost\"),\n",
    "                 F.sum(\"total_claim_count\").alias(\"sum_total_claim_count\"),\n",
    "                 F.mean(\"total_claim_count\").alias(\"mean_total_claim_count\"),\n",
    "                 F.max(\"total_claim_count\").alias(\"max_total_claim_count\"),\n",
    "                 F.sum(\"total_day_supply\").alias(\"sum_total_day_supply\"),\n",
    "                 F.mean(\"total_day_supply\").alias(\"mean_total_day_supply\"),\n",
    "                 F.max(\"total_day_supply\").alias(\"max_total_day_supply\")\n",
    "             ))\n",
    "\n",
    "# Cast to float if necessary (optional)\n",
    "for col_name in part_d_pd3.columns:\n",
    "    part_d_pd3 = part_d_pd3.withColumn(col_name, F.col(col_name).cast(\"float\"))\n",
    "\n",
    "# Show the result\n",
    "part_d_pd3.show()"
   ]
  },
  {
   "cell_type": "code",
   "execution_count": 67,
   "id": "1badc626-7935-43a4-8961-443a8a51c171",
   "metadata": {},
   "outputs": [
    {
     "name": "stderr",
     "output_type": "stream",
     "text": [
      "                                                                                \r"
     ]
    },
    {
     "data": {
      "text/plain": [
       "1017417"
      ]
     },
     "execution_count": 67,
     "metadata": {},
     "output_type": "execute_result"
    }
   ],
   "source": [
    "part_d_pd3.count()"
   ]
  },
  {
   "cell_type": "code",
   "execution_count": 69,
   "id": "a6a08154-1075-4b51-b6e6-6be07bcc4f11",
   "metadata": {},
   "outputs": [
    {
     "name": "stderr",
     "output_type": "stream",
     "text": [
      "[Stage 49:>                                                         (0 + 4) / 4]\r"
     ]
    },
    {
     "name": "stdout",
     "output_type": "stream",
     "text": [
      "+------------+-------------------+--------------------+-------------------+---------------------+----------------------+---------------------+--------------------+---------------------+--------------------+--------------+-----+--------------+----------+--------------------+\n",
      "|         npi|sum_total_drug_cost|mean_total_drug_cost|max_total_drug_cost|sum_total_claim_count|mean_total_claim_count|max_total_claim_count|sum_total_day_supply|mean_total_day_supply|max_total_day_supply|          city|state|     last_name|first_name|           specialty|\n",
      "+------------+-------------------+--------------------+-------------------+---------------------+----------------------+---------------------+--------------------+---------------------+--------------------+--------------+-----+--------------+----------+--------------------+\n",
      "| 1.0030124E9|             577.08|              288.54|             373.53|                 70.0|                  35.0|                 39.0|               478.0|                239.0|               283.0|Pompton Plains|   NJ|        Tindoc|  Lorelane|     Family Practice|\n",
      "| 1.0030124E9|             577.08|              288.54|             373.53|                 70.0|                  35.0|                 39.0|               478.0|                239.0|               283.0|     San Diego|   CA|   Chittaphong|       Lam|             Dentist|\n",
      "| 1.0030124E9|             577.08|              288.54|             373.53|                 70.0|                  35.0|                 39.0|               478.0|                239.0|               283.0|    Crittenden|   KY|         Patel|     Viral|     Family Practice|\n",
      "|1.00302304E9|            1156.66|             289.165|             481.15|                231.0|                 57.75|                116.0|              1321.0|               330.25|               816.0|    Cincinnati|   OH|      Musgrave|     Ethan|     Neuropsychiatry|\n",
      "|1.00302304E9|            1156.66|             289.165|             481.15|                231.0|                 57.75|                116.0|              1321.0|               330.25|               816.0|      New York|   NY|      Kasahara|  Takehiro|Oral Surgery (Den...|\n",
      "|1.00302445E9|             116.89|              58.445|              87.57|                 36.0|                  18.0|                 20.0|               664.0|                332.0|               480.0|    South Gate|   CA|      Khonsary| Seyed Ali|    Nuclear Medicine|\n",
      "|1.00304486E9|             296.23|              296.23|             296.23|                 27.0|                  27.0|                 27.0|               208.0|                208.0|               208.0|   Los Angeles|   CA|       Trenkle|  Geoffrey|      Otolaryngology|\n",
      "|1.00304486E9|             296.23|              296.23|             296.23|                 27.0|                  27.0|                 27.0|               208.0|                208.0|               208.0|       Chicago|   IL|    Khorasanee|Jacqueline|  Emergency Medicine|\n",
      "|1.00304486E9|             296.23|              296.23|             296.23|                 27.0|                  27.0|                 27.0|               208.0|                208.0|               208.0|        Camden|   NJ|         Chase|    Rachel|  Emergency Medicine|\n",
      "|1.00305856E9|          787805.44|            41463.44|          549919.56|               2828.0|              148.8421|               1071.0|            177261.0|             9329.526|             78262.0|    Woodbridge|   VA|Jimenez-Tosado|     Zahir|     Family Practice|\n",
      "|1.00305856E9|          787805.44|            41463.44|          549919.56|               2828.0|              148.8421|               1071.0|            177261.0|             9329.526|             78262.0|      Woodbury|   MN|        Kieley|    Samuel|             Urology|\n",
      "|1.00306285E9|             250.07|            83.35667|             111.04|                 61.0|             20.333334|                 26.0|               615.0|                205.0|               343.0|        Auburn|   WA|    Srivastava|     Dipti|             Dentist|\n",
      "|1.00306285E9|             250.07|            83.35667|             111.04|                 61.0|             20.333334|                 26.0|               615.0|                205.0|               343.0|        Caguas|   PR|     Rios Sola|    Miguel|    General Practice|\n",
      "| 1.0030655E9|            1736.81|           289.46832|             624.62|                152.0|             25.333334|                 36.0|               946.0|            157.66667|               246.0|    Pittsburgh|   PA|        Turner|     Josef|  Emergency Medicine|\n",
      "|1.00307014E9|          168403.05|           2760.7058|           20900.79|               2228.0|              36.52459|                183.0|            128106.0|            2100.0984|             11415.0|   Tallahassee|   FL|        Tinson|      Faye|  Nurse Practitioner|\n",
      "|1.00307014E9|          168403.05|           2760.7058|           20900.79|               2228.0|              36.52459|                183.0|            128106.0|            2100.0984|             11415.0|    Germantown|   TN|      Ahmadian|  Homayoun|          Cardiology|\n",
      "| 1.0030707E9|            1540.37|           220.05286|             453.67|                257.0|             36.714287|                101.0|              1894.0|            270.57144|               556.0|       Detroit|   MI|         Beard|      Mark|     Family Practice|\n",
      "| 1.0030707E9|            1540.37|           220.05286|             453.67|                257.0|             36.714287|                101.0|              1894.0|            270.57144|               556.0|     Corsicana|   TX|        Wright|    Justin|             Dentist|\n",
      "| 1.0030727E9|          237329.38|           2282.0132|           87333.15|               3932.0|             37.807693|                183.0|            164374.0|            1580.5193|             10351.0|       Merrill|   WI|      Sedlacek|    Robert|     Family Practice|\n",
      "| 1.0030737E9|            4320.14|           332.31845|             1228.1|                380.0|              29.23077|                120.0|              3080.0|            236.92308|               662.0|      La Jolla|   CA|         Weiss|    George|    General Practice|\n",
      "+------------+-------------------+--------------------+-------------------+---------------------+----------------------+---------------------+--------------------+---------------------+--------------------+--------------+-----+--------------+----------+--------------------+\n",
      "only showing top 20 rows\n",
      "\n"
     ]
    },
    {
     "name": "stderr",
     "output_type": "stream",
     "text": [
      "                                                                                \r"
     ]
    }
   ],
   "source": [
    "part_d_all_pd = part_d_pd3.join(part_d_pd_u, on='npi', how='left')\n",
    "\n",
    "# Show the result\n",
    "part_d_all_pd.show()"
   ]
  },
  {
   "cell_type": "code",
   "execution_count": 75,
   "id": "657d955b-feba-472d-94e3-d98f9f0a32f3",
   "metadata": {},
   "outputs": [],
   "source": [
    "payment_data_path=\"../DataSet/PaymentDataSet/OP_DTL_OWNRSHP_PGYR2021_P06302023.csv\"\n",
    "pds = spark.read.csv(payment_data_path, header=True, inferSchema=True)"
   ]
  },
  {
   "cell_type": "code",
   "execution_count": 76,
   "id": "31e68010-3888-4566-aaf3-591a5d3bb548",
   "metadata": {},
   "outputs": [
    {
     "name": "stdout",
     "output_type": "stream",
     "text": [
      "root\n",
      " |-- Change_Type: string (nullable = true)\n",
      " |-- Physician_Profile_ID: integer (nullable = true)\n",
      " |-- Physician_NPI: integer (nullable = true)\n",
      " |-- Physician_First_Name: string (nullable = true)\n",
      " |-- Physician_Middle_Name: string (nullable = true)\n",
      " |-- Physician_Last_Name: string (nullable = true)\n",
      " |-- Physician_Name_Suffix: string (nullable = true)\n",
      " |-- Recipient_Primary_Business_Street_Address_Line1: string (nullable = true)\n",
      " |-- Recipient_Primary_Business_Street_Address_Line2: string (nullable = true)\n",
      " |-- Recipient_City: string (nullable = true)\n",
      " |-- Recipient_State: string (nullable = true)\n",
      " |-- Recipient_Zip_Code: string (nullable = true)\n",
      " |-- Recipient_Country: string (nullable = true)\n",
      " |-- Recipient_Province: string (nullable = true)\n",
      " |-- Recipient_Postal_Code: string (nullable = true)\n",
      " |-- Physician_Primary_Type: string (nullable = true)\n",
      " |-- Physician_Specialty: string (nullable = true)\n",
      " |-- Record_ID: integer (nullable = true)\n",
      " |-- Program_Year: integer (nullable = true)\n",
      " |-- Total_Amount_Invested_USDollars: double (nullable = true)\n",
      " |-- Value_of_Interest: double (nullable = true)\n",
      " |-- Terms_of_Interest: string (nullable = true)\n",
      " |-- Submitting_Applicable_Manufacturer_or_Applicable_GPO_Name: string (nullable = true)\n",
      " |-- Applicable_Manufacturer_or_Applicable_GPO_Making_Payment_ID: long (nullable = true)\n",
      " |-- Applicable_Manufacturer_or_Applicable_GPO_Making_Payment_Name: string (nullable = true)\n",
      " |-- Applicable_Manufacturer_or_Applicable_GPO_Making_Payment_State: string (nullable = true)\n",
      " |-- Applicable_Manufacturer_or_Applicable_GPO_Making_Payment_Country: string (nullable = true)\n",
      " |-- Dispute_Status_for_Publication: string (nullable = true)\n",
      " |-- Interest_Held_by_Physician_or_an_Immediate_Family_Member: string (nullable = true)\n",
      " |-- Payment_Publication_Date: string (nullable = true)\n",
      "\n"
     ]
    }
   ],
   "source": [
    "pds.printSchema()"
   ]
  },
  {
   "cell_type": "code",
   "execution_count": 78,
   "id": "990e033c-d336-41ca-a3b4-9dfe30d6e4d8",
   "metadata": {},
   "outputs": [
    {
     "name": "stdout",
     "output_type": "stream",
     "text": [
      "+----------+----------+-----+----------------+---------------------------+\n",
      "|first_name| last_name|state|            city|total_amount_of_payment_usd|\n",
      "+----------+----------+-----+----------------+---------------------------+\n",
      "|     Faith|    Brosch|   DE|          NEWARK|                        0.0|\n",
      "|      Troy|  Brothers|   FL|          Naples|                        0.0|\n",
      "|      Anne|     Brown|   VA|        Leesburg|                        0.0|\n",
      "|     David|     Brown|   FL|      FORT MYERS|                        0.0|\n",
      "|    Ingrid|     Brown|   TX|      Round Rock|                        0.0|\n",
      "|     Kevin|     Brown|   TX|      Round Rock|                        0.0|\n",
      "|    Steven|     Brown|   FL|      Palm Coast|                        0.0|\n",
      "|   Michael|   Buckley|   NC|         Raleigh|                        0.0|\n",
      "|  Christin|Richardson|   NC|         Raleigh|                        0.0|\n",
      "|     Kathy|Richardson|   NC|      Greensboro|                        0.0|\n",
      "|    Kellyn|    Rielly|   TX|   The Woodlands|                        0.0|\n",
      "|    Sandra|    Rivard|   NC|      Greensboro|                        0.0|\n",
      "|    Laurie|   Robbins|   GA|        Marietta|                        0.0|\n",
      "|      Sara|    Robert|   TX|        MCKINNEY|                        0.0|\n",
      "|      John|   Roberts|   TX|           PLANO|                        0.0|\n",
      "|    Angela|   Roberts|   NC|      Greensboro|                        0.0|\n",
      "|    Herman|   Epstein|   FL|Lauderdale Lakes|                        0.0|\n",
      "|     Laura|    Erdman|   MD|          Towson|                        0.0|\n",
      "|  Jennifer|   Everson|   TX|          Conroe|                        0.0|\n",
      "|      Mary|  Facciolo|   MD|          Towson|                        0.0|\n",
      "+----------+----------+-----+----------------+---------------------------+\n",
      "only showing top 20 rows\n",
      "\n"
     ]
    }
   ],
   "source": [
    "pds_df = pds.select(\n",
    "    col(\"Physician_First_Name\").alias(\"first_name\"),\n",
    "    col(\"Physician_Last_Name\").alias(\"last_name\"),\n",
    "    col(\"Recipient_State\").alias(\"state\"),\n",
    "    col(\"Recipient_City\").alias(\"city\"),\n",
    "    col(\"Total_Amount_Invested_USDollars\").alias(\"total_amount_of_payment_usd\")\n",
    ")\n",
    "\n",
    "pds_df.show()"
   ]
  },
  {
   "cell_type": "code",
   "execution_count": 82,
   "id": "83f9e386-b71a-47cd-95f4-55cd45b41582",
   "metadata": {},
   "outputs": [
    {
     "name": "stdout",
     "output_type": "stream",
     "text": [
      "+-----------+----------+-----+---------------+-------------------------------+---------------------------+\n",
      "| first_name| last_name|state|           city|sum_total_amount_of_payment_usd|total_amount_of_payment_usd|\n",
      "+-----------+----------+-----+---------------+-------------------------------+---------------------------+\n",
      "|       Mary|   Goodwin|   NC|      Asheville|                            0.0|                        0.0|\n",
      "|Christopher|      Ames|   CA|  SAN FRANCISCO|                            0.0|                        0.0|\n",
      "|   Rajeshri|     Patel|   NY|     Long Beach|                        38348.0|                    38348.0|\n",
      "|     George|    Ferzli|   NY|  Staten Island|                        70000.0|                    70000.0|\n",
      "|    Michael| Ziebelman|   FL|   Winter Haven|                            0.0|                        0.0|\n",
      "|    STEPHEN|     RAMEE|   LA|    NEW ORLEANS|                            0.0|                        0.0|\n",
      "|       JOHN|    VUKICH|   WI|      WAUWATOSA|                      106911.73|                  106911.73|\n",
      "|    WILLIAM|     WILEY|   OH|      CLEVELAND|                            0.0|                        0.0|\n",
      "|      DAVID|   STEWART|   OH|        GAHANNA|                         526.15|                     526.15|\n",
      "|       Gary|      Heit|   CA|   Redwood City|                         1400.0|                     1400.0|\n",
      "|    Timothy|   Trainor|   LA|        SLIDELL|                         446.41|                     446.41|\n",
      "|     ROBERT|      WONG|   TX|         AUSTIN|                            0.0|                        0.0|\n",
      "|      James|    Cottom|   FL|       Sarosota|                        25000.0|                    25000.0|\n",
      "|  Jean-Paul|      Tran|   FL|         Oxford|                            0.0|                        0.0|\n",
      "|     EDWARD|     PEREZ|   MS|      SOUTHAVEN|                       155768.0|                   155768.0|\n",
      "|    Abhinav|   Chhabra|   VA|Charlottesville|                            0.0|                        0.0|\n",
      "|         Yu|       Lee|   TX|          Plano|                            0.0|                        0.0|\n",
      "|     Harvey|  Friedman|   NJ|      Englewood|                            0.0|                        0.0|\n",
      "|       JACK|    ZIGLER|   TX|          PLANO|                            0.0|                        0.0|\n",
      "|     Carlos|Valladares|   NV|      Las Vegas|                            0.0|                        0.0|\n",
      "+-----------+----------+-----+---------------+-------------------------------+---------------------------+\n",
      "only showing top 20 rows\n",
      "\n"
     ]
    }
   ],
   "source": [
    "pds_df1 = (pds_df\n",
    "           .groupBy('first_name', 'last_name', 'state', 'city')\n",
    "           .agg(F.sum('total_amount_of_payment_usd').alias('sum_total_amount_of_payment_usd'))\n",
    "           .withColumn('total_amount_of_payment_usd', F.col('sum_total_amount_of_payment_usd').cast('float')))\n",
    "\n",
    "# Show the result\n",
    "pds_df1.show()"
   ]
  },
  {
   "cell_type": "code",
   "execution_count": 83,
   "id": "404419bc-4d2e-4ce7-8fde-47feda87b8ae",
   "metadata": {},
   "outputs": [
    {
     "name": "stdout",
     "output_type": "stream",
     "text": [
      "+-----------+----------+-----+---------------+-------------------------------+---------------------------+\n",
      "| first_name| last_name|state|           city|sum_total_amount_of_payment_usd|total_amount_of_payment_usd|\n",
      "+-----------+----------+-----+---------------+-------------------------------+---------------------------+\n",
      "|       MARY|   GOODWIN|   NC|      ASHEVILLE|                            0.0|                        0.0|\n",
      "|CHRISTOPHER|      AMES|   CA|  SAN FRANCISCO|                            0.0|                        0.0|\n",
      "|   RAJESHRI|     PATEL|   NY|     LONG BEACH|                        38348.0|                    38348.0|\n",
      "|     GEORGE|    FERZLI|   NY|  STATEN ISLAND|                        70000.0|                    70000.0|\n",
      "|    MICHAEL| ZIEBELMAN|   FL|   WINTER HAVEN|                            0.0|                        0.0|\n",
      "|    STEPHEN|     RAMEE|   LA|    NEW ORLEANS|                            0.0|                        0.0|\n",
      "|       JOHN|    VUKICH|   WI|      WAUWATOSA|                      106911.73|                  106911.73|\n",
      "|    WILLIAM|     WILEY|   OH|      CLEVELAND|                            0.0|                        0.0|\n",
      "|      DAVID|   STEWART|   OH|        GAHANNA|                         526.15|                     526.15|\n",
      "|       GARY|      HEIT|   CA|   REDWOOD CITY|                         1400.0|                     1400.0|\n",
      "|    TIMOTHY|   TRAINOR|   LA|        SLIDELL|                         446.41|                     446.41|\n",
      "|     ROBERT|      WONG|   TX|         AUSTIN|                            0.0|                        0.0|\n",
      "|      JAMES|    COTTOM|   FL|       SAROSOTA|                        25000.0|                    25000.0|\n",
      "|  JEAN-PAUL|      TRAN|   FL|         OXFORD|                            0.0|                        0.0|\n",
      "|     EDWARD|     PEREZ|   MS|      SOUTHAVEN|                       155768.0|                   155768.0|\n",
      "|    ABHINAV|   CHHABRA|   VA|CHARLOTTESVILLE|                            0.0|                        0.0|\n",
      "|         YU|       LEE|   TX|          PLANO|                            0.0|                        0.0|\n",
      "|     HARVEY|  FRIEDMAN|   NJ|      ENGLEWOOD|                            0.0|                        0.0|\n",
      "|       JACK|    ZIGLER|   TX|          PLANO|                            0.0|                        0.0|\n",
      "|     CARLOS|VALLADARES|   NV|      LAS VEGAS|                            0.0|                        0.0|\n",
      "+-----------+----------+-----+---------------+-------------------------------+---------------------------+\n",
      "only showing top 20 rows\n",
      "\n"
     ]
    }
   ],
   "source": [
    "# Convert all string columns to uppercase\n",
    "for col_name in pds_df1.columns:\n",
    "    # Check if the column type is string\n",
    "    if isinstance(pds_df1.schema[col_name].dataType, StringType):\n",
    "        pds_df1 = pds_df1.withColumn(col_name, F.upper(F.col(col_name)))\n",
    "\n",
    "# Show the result\n",
    "pds_df1.show()"
   ]
  },
  {
   "cell_type": "code",
   "execution_count": 85,
   "id": "af170f79-94f5-41d0-9a74-b60263335be7",
   "metadata": {},
   "outputs": [
    {
     "name": "stderr",
     "output_type": "stream",
     "text": [
      "[Stage 76:==============>                                           (1 + 3) / 4]\r"
     ]
    },
    {
     "name": "stdout",
     "output_type": "stream",
     "text": [
      "+--------------+----------+--------------+-----+------------+-------------------+--------------------+-------------------+---------------------+----------------------+---------------------+--------------------+---------------------+--------------------+--------------------+-------------------------------+---------------------------+\n",
      "|     last_name|first_name|          city|state|         npi|sum_total_drug_cost|mean_total_drug_cost|max_total_drug_cost|sum_total_claim_count|mean_total_claim_count|max_total_claim_count|sum_total_day_supply|mean_total_day_supply|max_total_day_supply|           specialty|sum_total_amount_of_payment_usd|total_amount_of_payment_usd|\n",
      "+--------------+----------+--------------+-----+------------+-------------------+--------------------+-------------------+---------------------+----------------------+---------------------+--------------------+---------------------+--------------------+--------------------+-------------------------------+---------------------------+\n",
      "|        Tindoc|  Lorelane|Pompton Plains|   NJ| 1.0030124E9|             577.08|              288.54|             373.53|                 70.0|                  35.0|                 39.0|               478.0|                239.0|               283.0|     Family Practice|                           NULL|                       NULL|\n",
      "|   Chittaphong|       Lam|     San Diego|   CA| 1.0030124E9|             577.08|              288.54|             373.53|                 70.0|                  35.0|                 39.0|               478.0|                239.0|               283.0|             Dentist|                           NULL|                       NULL|\n",
      "|         Patel|     Viral|    Crittenden|   KY| 1.0030124E9|             577.08|              288.54|             373.53|                 70.0|                  35.0|                 39.0|               478.0|                239.0|               283.0|     Family Practice|                           NULL|                       NULL|\n",
      "|      Musgrave|     Ethan|    Cincinnati|   OH|1.00302304E9|            1156.66|             289.165|             481.15|                231.0|                 57.75|                116.0|              1321.0|               330.25|               816.0|     Neuropsychiatry|                           NULL|                       NULL|\n",
      "|      Kasahara|  Takehiro|      New York|   NY|1.00302304E9|            1156.66|             289.165|             481.15|                231.0|                 57.75|                116.0|              1321.0|               330.25|               816.0|Oral Surgery (Den...|                           NULL|                       NULL|\n",
      "|      Khonsary| Seyed Ali|    South Gate|   CA|1.00302445E9|             116.89|              58.445|              87.57|                 36.0|                  18.0|                 20.0|               664.0|                332.0|               480.0|    Nuclear Medicine|                           NULL|                       NULL|\n",
      "|       Trenkle|  Geoffrey|   Los Angeles|   CA|1.00304486E9|             296.23|              296.23|             296.23|                 27.0|                  27.0|                 27.0|               208.0|                208.0|               208.0|      Otolaryngology|                           NULL|                       NULL|\n",
      "|    Khorasanee|Jacqueline|       Chicago|   IL|1.00304486E9|             296.23|              296.23|             296.23|                 27.0|                  27.0|                 27.0|               208.0|                208.0|               208.0|  Emergency Medicine|                           NULL|                       NULL|\n",
      "|         Chase|    Rachel|        Camden|   NJ|1.00304486E9|             296.23|              296.23|             296.23|                 27.0|                  27.0|                 27.0|               208.0|                208.0|               208.0|  Emergency Medicine|                           NULL|                       NULL|\n",
      "|Jimenez-Tosado|     Zahir|    Woodbridge|   VA|1.00305856E9|          787805.44|            41463.44|          549919.56|               2828.0|              148.8421|               1071.0|            177261.0|             9329.526|             78262.0|     Family Practice|                           NULL|                       NULL|\n",
      "|        Kieley|    Samuel|      Woodbury|   MN|1.00305856E9|          787805.44|            41463.44|          549919.56|               2828.0|              148.8421|               1071.0|            177261.0|             9329.526|             78262.0|             Urology|                           NULL|                       NULL|\n",
      "|    Srivastava|     Dipti|        Auburn|   WA|1.00306285E9|             250.07|            83.35667|             111.04|                 61.0|             20.333334|                 26.0|               615.0|                205.0|               343.0|             Dentist|                           NULL|                       NULL|\n",
      "|     Rios Sola|    Miguel|        Caguas|   PR|1.00306285E9|             250.07|            83.35667|             111.04|                 61.0|             20.333334|                 26.0|               615.0|                205.0|               343.0|    General Practice|                           NULL|                       NULL|\n",
      "|        Turner|     Josef|    Pittsburgh|   PA| 1.0030655E9|            1736.81|           289.46832|             624.62|                152.0|             25.333334|                 36.0|               946.0|            157.66667|               246.0|  Emergency Medicine|                           NULL|                       NULL|\n",
      "|        Tinson|      Faye|   Tallahassee|   FL|1.00307014E9|          168403.05|           2760.7058|           20900.79|               2228.0|              36.52459|                183.0|            128106.0|            2100.0984|             11415.0|  Nurse Practitioner|                           NULL|                       NULL|\n",
      "|      Ahmadian|  Homayoun|    Germantown|   TN|1.00307014E9|          168403.05|           2760.7058|           20900.79|               2228.0|              36.52459|                183.0|            128106.0|            2100.0984|             11415.0|          Cardiology|                           NULL|                       NULL|\n",
      "|         Beard|      Mark|       Detroit|   MI| 1.0030707E9|            1540.37|           220.05286|             453.67|                257.0|             36.714287|                101.0|              1894.0|            270.57144|               556.0|     Family Practice|                           NULL|                       NULL|\n",
      "|        Wright|    Justin|     Corsicana|   TX| 1.0030707E9|            1540.37|           220.05286|             453.67|                257.0|             36.714287|                101.0|              1894.0|            270.57144|               556.0|             Dentist|                           NULL|                       NULL|\n",
      "|      Sedlacek|    Robert|       Merrill|   WI| 1.0030727E9|          237329.38|           2282.0132|           87333.15|               3932.0|             37.807693|                183.0|            164374.0|            1580.5193|             10351.0|     Family Practice|                           NULL|                       NULL|\n",
      "|         Weiss|    George|      La Jolla|   CA| 1.0030737E9|            4320.14|           332.31845|             1228.1|                380.0|              29.23077|                120.0|              3080.0|            236.92308|               662.0|    General Practice|                           NULL|                       NULL|\n",
      "+--------------+----------+--------------+-----+------------+-------------------+--------------------+-------------------+---------------------+----------------------+---------------------+--------------------+---------------------+--------------------+--------------------+-------------------------------+---------------------------+\n",
      "only showing top 20 rows\n",
      "\n"
     ]
    },
    {
     "name": "stderr",
     "output_type": "stream",
     "text": [
      "                                                                                \r"
     ]
    }
   ],
   "source": [
    "pay_part_d_fpd = part_d_all_pd.join(pds_df1, on=['last_name', 'first_name', 'city', 'state'], how='left')\n",
    "\n",
    "# Show the result\n",
    "pay_part_d_fpd.show()"
   ]
  },
  {
   "cell_type": "code",
   "execution_count": null,
   "id": "4e165472-9175-429e-b983-4d059a538be5",
   "metadata": {},
   "outputs": [
    {
     "name": "stderr",
     "output_type": "stream",
     "text": [
      "[Stage 86:>  (8 + 4) / 25][Stage 87:>   (0 + 0) / 1][Stage 89:>   (0 + 0) / 4]1]\r"
     ]
    }
   ],
   "source": [
    "pay_part_d_fpd.count()"
   ]
  },
  {
   "cell_type": "code",
   "execution_count": null,
   "id": "a17d7e0d-9711-4361-bb83-575fff293032",
   "metadata": {},
   "outputs": [],
   "source": []
  },
  {
   "cell_type": "code",
   "execution_count": null,
   "id": "781f294d-73b9-42c3-aebd-5cc082218e18",
   "metadata": {},
   "outputs": [],
   "source": []
  }
 ],
 "metadata": {
  "kernelspec": {
   "display_name": "Python 3 (ipykernel)",
   "language": "python",
   "name": "python3"
  },
  "language_info": {
   "codemirror_mode": {
    "name": "ipython",
    "version": 3
   },
   "file_extension": ".py",
   "mimetype": "text/x-python",
   "name": "python",
   "nbconvert_exporter": "python",
   "pygments_lexer": "ipython3",
   "version": "3.11.6"
  }
 },
 "nbformat": 4,
 "nbformat_minor": 5
}
